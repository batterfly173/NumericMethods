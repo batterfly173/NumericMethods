{
 "cells": [
  {
   "cell_type": "code",
   "execution_count": 16,
   "id": "78b14eb9",
   "metadata": {},
   "outputs": [],
   "source": [
    "import numpy as np\n",
    "from matplotlib import pyplot as plt"
   ]
  },
  {
   "cell_type": "code",
   "execution_count": 17,
   "id": "83f6cfbf",
   "metadata": {},
   "outputs": [],
   "source": [
    "# Интервал для решения\n",
    "a = 0\n",
    "b = 1\n",
    "\n",
    "# Начальные условия для ДУ\n",
    "u0     = 1\n",
    "u0Diff = 1\n",
    "\n",
    "# Правая часть ДУ(Как аргрументы передаем x,u,w в таком же порядке)\n",
    "def function(*arguments):\n",
    "    return -arguments[2]*np.cos(arguments[0])  - arguments[1]*np.sin(arguments[0]) + arguments[0]*np.sin(arguments[0])\n",
    "\n",
    "\n",
    "# Оригинальное решение из задания\n",
    "def originalSolution(x):\n",
    "    return x + np.cos(x)"
   ]
  },
  {
   "cell_type": "code",
   "execution_count": 18,
   "id": "40c62ea5",
   "metadata": {},
   "outputs": [],
   "source": [
    "# метод Эйлера - 4 порядка (аргументы u0, w0=u0' в том же порядке)\n",
    "def EulerMethod(xGrid, function, *arguments):\n",
    "    h = xGrid[1] - xGrid[0]\n",
    "    \n",
    "    u_0 = arguments[0]\n",
    "    w_0 = arguments[1]\n",
    "    \n",
    "    uPlot = [u_0]\n",
    "    wPlot = [w_0]\n",
    "    \n",
    "    for i in range(len(xGrid) - 1):\n",
    "        w = wPlot[i] + h * function(xGrid[i], uPlot[i], wPlot[i])\n",
    "        u = uPlot[i] + h * wPlot[i]\n",
    "        \n",
    "        wPlot.append(w)\n",
    "        uPlot.append(u)\n",
    "    \n",
    "    return uPlot"
   ]
  },
  {
   "cell_type": "code",
   "execution_count": 19,
   "id": "bac052b2",
   "metadata": {},
   "outputs": [],
   "source": [
    "# метод Рунге-Кутта - 4 порядка (аргументы u0, w0=u0' в том же порядке)\n",
    "def RungeKuttaMethod(xGrid, function, *arguments):\n",
    "    h = xGrid[1] - xGrid[0]\n",
    "    \n",
    "    u0 = arguments[0]\n",
    "    w0 = arguments[1]\n",
    "    \n",
    "    uPlot = [u0]\n",
    "    wPlot = [w0]\n",
    "    \n",
    "    for i in range(len(xGrid) - 1):\n",
    "        k1_w = function(xGrid[i], uPlot[i], wPlot[i])\n",
    "        k1_u = wPlot[i]\n",
    "        \n",
    "        k2_w = function(xGrid[i] + h / 2, uPlot[i] + h / 2 * k1_u, wPlot[i] + h / 2 * k1_w)\n",
    "        k2_u = wPlot[i] + h / 2 * k1_w\n",
    "        \n",
    "        k3_w = function(xGrid[i] + h / 2, uPlot[i] + h / 2 * k2_u, wPlot[i] + h / 2 * k2_w)\n",
    "        k3_u = wPlot[i] + h /2 * k2_w\n",
    "        \n",
    "        k4_w = function(xGrid[i] + h, uPlot[i] + h * k3_u, wPlot[i] + h * k3_w)\n",
    "        k4_u = wPlot[i] + h * k3_w\n",
    "        \n",
    "        w = wPlot[i] + h / 6 * (k1_w + 2 * (k2_w + k3_w) + k4_w)\n",
    "        u = uPlot[i] + h / 6 * (k1_u + 2 * (k2_u + k3_u) + k4_u)\n",
    "        \n",
    "        wPlot.append(w)\n",
    "        uPlot.append(u)\n",
    "    \n",
    "    return uPlot"
   ]
  },
  {
   "cell_type": "code",
   "execution_count": 20,
   "id": "2c59ebc9",
   "metadata": {},
   "outputs": [],
   "source": [
    "# Метод Адамса - 3 порядка (аргументы u0, w0=u0' в том же порядке)\n",
    "def AdamsMethod(xGrid, function, *arguments):\n",
    "    h = xGrid[1] - xGrid[0]\n",
    "    \n",
    "    u0 = arguments[0]\n",
    "    w0 = arguments[1]\n",
    " \n",
    "    uPlot = [u0]\n",
    "    wPlot = [w0]\n",
    "   \n",
    "    for i in range(2):\n",
    "        k1_w = function(xGrid[i], uPlot[i], wPlot[i])\n",
    "        k1_u = wPlot[i]\n",
    "\n",
    "        k2_w = function(xGrid[i] + h / 2, uPlot[i] + h / 2 * k1_u, wPlot[i] + h / 2 * k1_w)\n",
    "        k2_u = wPlot[i] + h / 2 * k1_w\n",
    "\n",
    "        k3_w = function(xGrid[i] + h / 2, uPlot[i] + h / 2 * k2_u, wPlot[i] + h / 2 * k2_w)\n",
    "        k3_u = wPlot[i] + h /2 * k2_w\n",
    "\n",
    "        k4_w = function(xGrid[i] + h, uPlot[i] + h * k3_u, wPlot[i] + h * k3_w)\n",
    "        k4_u = wPlot[i] + h * k3_w\n",
    "\n",
    "        w = wPlot[i] + h / 6 * (k1_w + 2 * (k2_w + k3_w) + k4_w)\n",
    "        u = uPlot[i] + h / 6 * (k1_u + 2 * (k2_u + k3_u) + k4_u)\n",
    "\n",
    "        wPlot.append(w)\n",
    "        uPlot.append(u)\n",
    "        \n",
    "    for i in range(len(xGrid) - 3):\n",
    "        w = (wPlot[i + 2] + h * ( 23 / 12 * function(xGrid[i + 2], uPlot[i + 2], wPlot[i + 2]) - \n",
    "                                   4  / 3  * function(xGrid[i + 1], uPlot[i + 1], wPlot[i + 1]) + \n",
    "                                   5  / 12 * function(xGrid[i],     uPlot[i],     wPlot[i])))\n",
    "        u =  uPlot[i + 2] + h * ( 23 / 12 * wPlot[i + 2] - 4 / 3 * wPlot[i + 1] + 5 / 12 * wPlot[i])\n",
    "        \n",
    "        wPlot.append(w)\n",
    "        uPlot.append(u)\n",
    "        \n",
    "    return uPlot"
   ]
  },
  {
   "cell_type": "code",
   "execution_count": 21,
   "id": "363130f4",
   "metadata": {},
   "outputs": [],
   "source": [
    "# Делаем сетку с шагом 0.05\n",
    "h = 0.05\n",
    "xGrid = np.linspace(a, b, round((b - a) / h) + 1)"
   ]
  },
  {
   "cell_type": "code",
   "execution_count": 22,
   "id": "c80cd36d",
   "metadata": {},
   "outputs": [],
   "source": [
    "# Считаем точные значения в узлах сетки\n",
    "uPlot = [originalSolution(x) for x in xGrid]"
   ]
  },
  {
   "cell_type": "code",
   "execution_count": 23,
   "id": "46c81b52",
   "metadata": {},
   "outputs": [],
   "source": [
    "# Строим решения на основе нашей сетки и трех методов\n",
    "EulerPlot = EulerMethod(xGrid, function, u0, u0Diff)\n",
    "RKPlot    = RungeKuttaMethod(xGrid, function, u0, u0Diff)\n",
    "AdamsPlot = AdamsMethod(xGrid, function, u0, u0Diff)"
   ]
  },
  {
   "cell_type": "code",
   "execution_count": 24,
   "id": "a46d7511",
   "metadata": {},
   "outputs": [],
   "source": [
    "# Считаем ошибки поточечно для каждого метода\n",
    "EulerErrors = [abs(eulerValue - originalFunctionValue)  for eulerValue, originalFunctionValue  in zip(EulerPlot, uPlot)]\n",
    "RKErrors    = [abs(RKvalue - originalFunctionValue) for RKvalue, originalFunctionValue in zip(RKPlot, uPlot)]\n",
    "AdamsErrors = [abs(adamsValue - originalFunctionValue)  for adamsValue, originalFunctionValue  in zip(AdamsPlot, uPlot)]"
   ]
  },
  {
   "cell_type": "code",
   "execution_count": 25,
   "id": "7c93596e",
   "metadata": {},
   "outputs": [
    {
     "name": "stdout",
     "output_type": "stream",
     "text": [
      "\n",
      "\n",
      "Зеленый: Оригинал\n",
      "Черный: Эйлер\n",
      "Красный: РунгеКутт\n",
      "Голубой: Адамс\n"
     ]
    },
    {
     "data": {
      "image/png": "[encoded data removed]",
      "text/plain": [
       "<Figure size 1440x720 with 1 Axes>"
      ]
     },
     "metadata": {
      "needs_background": "light"
     },
     "output_type": "display_data"
    }
   ],
   "source": [
    "# Рисуем Оригинальное решение и примерные решения методами\n",
    "ax = plt.subplots(figsize=(20, 10))[1]\n",
    "\n",
    "ax.plot(xGrid, uPlot, color=\"green\", linewidth=1.0)\n",
    "ax.plot(xGrid, EulerPlot, color=\"black\", linewidth=1.0)\n",
    "ax.plot(xGrid, RKPlot, color=\"red\", linewidth=1.0)\n",
    "ax.plot(xGrid, AdamsPlot, color=\"cyan\", linewidth=1.0)\n",
    "\n",
    "ax.grid(which=\"major\", linewidth=0.1)\n",
    "\n",
    "ax.set_xlabel(\"x\")        \n",
    "ax.set_ylabel(\"u\")\n",
    "\n",
    "print(\"\\n\")\n",
    "print(\"Зеленый: Оригинал\")\n",
    "print(\"Черный: Эйлер\")\n",
    "print(\"Красный: РунгеКутт\")\n",
    "print(\"Голубой: Адамс\")\n",
    "\n",
    "plt.show()"
   ]
  },
  {
   "cell_type": "code",
   "execution_count": 26,
   "id": "7355836e",
   "metadata": {},
   "outputs": [
    {
     "name": "stdout",
     "output_type": "stream",
     "text": [
      "0 - X, 1 - Эйлер, 2 - РК, 3 - Адамс\n",
      "\n",
      "\n",
      "0.0 | 0.0 | 0.0 | 0.0\n",
      "\n",
      "\n",
      "0.05 | 0.0012497396050337173 | 1.0219192159155455e-09 | 1.0219192159155455e-09\n",
      "\n",
      "\n",
      "0.1 | 0.0024958347219743438 | 1.9680501672780792e-09 | 1.9680501672780792e-09\n",
      "\n",
      "\n",
      "0.15000000000000002 | 0.0037319422723431916 | 2.8352491465710727e-09 | 2.3390245522669773e-06\n",
      "\n",
      "\n",
      "0.2 | 0.00495159336489448 | 3.6205940467937126e-09 | 4.64878549188974e-06\n",
      "\n",
      "\n",
      "0.25 | 0.006148218414673057 | 4.321438318299897e-09 | 6.923692813520788e-06\n",
      "\n",
      "\n",
      "0.30000000000000004 | 0.00731517339256027 | 4.935461372923555e-09 | 9.15095041342795e-06\n",
      "\n",
      "\n",
      "0.35000000000000003 | 0.008445766979373603 | 5.460711216542791e-09 | 1.1317702132584984e-05\n",
      "\n",
      "\n",
      "0.4 | 0.009533288397762796 | 5.8956448611979795e-09 | 1.3411385233697004e-05\n",
      "\n",
      "\n",
      "0.45 | 0.01057103569639084 | 6.2391607436040886e-09 | 1.5419375866132512e-05\n",
      "\n",
      "\n",
      "0.5 | 0.011552344263832337 | 6.490626702770896e-09 | 1.7329122625309168e-05\n",
      "\n",
      "\n",
      "0.55 | 0.012470615353943115 | 6.649902628552695e-09 | 1.9128188181616324e-05\n",
      "\n",
      "\n",
      "0.6000000000000001 | 0.013319344409849165 | 6.717357114993661e-09 | 2.0804304272425966e-05\n",
      "\n",
      "\n",
      "0.65 | 0.014092148979892638 | 6.693878562558098e-09 | 2.2345423675185216e-05\n",
      "\n",
      "\n",
      "0.7000000000000001 | 0.014782796025629263 | 6.580880507200959e-09 | 2.3739771176201074e-05\n",
      "\n",
      "\n",
      "0.75 | 0.015385228429078968 | 6.380304951036919e-09 | 2.4975892892520335e-05\n",
      "\n",
      "\n",
      "0.8 | 0.01589359051374406 | 6.0946148128238065e-09 | 2.6042703630491104e-05\n",
      "\n",
      "\n",
      "0.8500000000000001 | 0.016302252401230177 | 5.726788154802875e-09 | 2.6929531957264885e-05\n",
      "\n",
      "\n",
      "0.9 | 0.016605833032596662 | 5.280303305710277e-09 | 2.762616266061002e-05\n",
      "\n",
      "\n",
      "0.9500000000000001 | 0.016799221690645627 | 4.759122651520897e-09 | 2.8122876298608546e-05\n",
      "\n",
      "\n",
      "1.0 | 0.01687759786623677 | 4.167670653032474e-09 | 2.8410485541474628e-05\n"
     ]
    }
   ],
   "source": [
    "# Выводим ошибки для каждого из методов для конкретных х\n",
    "print(\"0 - X, 1 - Эйлер, 2 - РК, 3 - Адамс\")\n",
    "for i in range(len(xGrid)):\n",
    "    print(\"\\n\")\n",
    "    print(xGrid[i], \"|\", EulerErrors[i], \"|\", RKErrors[i], \"|\", AdamsErrors[i])"
   ]
  },
  {
   "cell_type": "code",
   "execution_count": 27,
   "id": "21908cda",
   "metadata": {},
   "outputs": [
    {
     "name": "stdout",
     "output_type": "stream",
     "text": [
      "\n",
      "\n",
      "Голубой: Ошибки Эйлера\n",
      "Синий: Ошибки RK\n",
      "Красный: Ошибка Адамса\n"
     ]
    },
    {
     "data": {
      "image/png": "[encoded data removed]",
      "text/plain": [
       "<Figure size 1440x720 with 1 Axes>"
      ]
     },
     "metadata": {
      "needs_background": "light"
     },
     "output_type": "display_data"
    }
   ],
   "source": [
    "# Рисуем ошибки для конкретного x, по оси x отложена координата а по оси y отложена ошибка\n",
    "# в этой точке\n",
    "ax = plt.subplots(figsize=(20, 10))[1]\n",
    "\n",
    "ax.plot(xGrid, EulerErrors, color=\"cyan\", linewidth=1.0)\n",
    "ax.plot(xGrid, RKErrors, color=\"blue\", linewidth=1.0)\n",
    "ax.plot(xGrid, AdamsErrors, color=\"red\", linewidth=1.0)\n",
    "\n",
    "ax.set_xlabel(\"x\")        \n",
    "ax.set_ylabel(\"Ошибка для данного x\")\n",
    "\n",
    "ax.grid(which=\"major\", linewidth=0.1)\n",
    "\n",
    "print(\"\\n\")\n",
    "print(\"Голубой: Ошибки Эйлера\")\n",
    "print(\"Синий: Ошибки RK\")\n",
    "print(\"Красный: Ошибка Адамса\")\n",
    "\n",
    "plt.show()"
   ]
  },
  {
   "cell_type": "code",
   "execution_count": 28,
   "id": "3d493e74",
   "metadata": {},
   "outputs": [],
   "source": [
    "# Поправка Рунге\n",
    "def Runge_rule(uPlotForH0, uPlotForH1, powerOfRungeKutta):\n",
    "    corrections = []\n",
    "    \n",
    "    for i in range(len(uPlotForH0)):\n",
    "        element = (uPlotForH1[2 * i] - uPlotForH0[i]) / (np.power(2, powerOfRungeKutta) - 1)\n",
    "        corrections.append(element)\n",
    "        \n",
    "    return corrections"
   ]
  },
  {
   "cell_type": "code",
   "execution_count": 29,
   "id": "86c6953d",
   "metadata": {},
   "outputs": [],
   "source": [
    "# Шаг сетки\n",
    "h = 0.1"
   ]
  },
  {
   "cell_type": "code",
   "execution_count": 30,
   "id": "0665f073",
   "metadata": {},
   "outputs": [],
   "source": [
    "# Построение сетки c шагом h2\n",
    "xGridRarely = np.linspace(a, b, round((b - a) / h) + 1)\n",
    "\n",
    "# Построение сетки с промежуточными точками(тоесть с шагом h2/2)\n",
    "xGridOften = []\n",
    "for i in range(len(xGridRarely) - 1):\n",
    "    xGridOften.append(xGridRarely[i])\n",
    "    xGridOften.append((xGridRarely[i] + xGridRarely[i + 1]) / 2)\n",
    "xGridOften.append(xGridRarely[-1])"
   ]
  },
  {
   "cell_type": "code",
   "execution_count": 31,
   "id": "f43170e3",
   "metadata": {},
   "outputs": [],
   "source": [
    "# Точные значения для сетки с шагом h2\n",
    "uPlot = [originalSolution(x) for x in xGridRarely]"
   ]
  },
  {
   "cell_type": "code",
   "execution_count": 32,
   "id": "9657dc50",
   "metadata": {},
   "outputs": [],
   "source": [
    "# Функция на сетке с шагом h2\n",
    "RKPlotRarely = RungeKuttaMethod(xGridRarely, function, u0, u0Diff)\n",
    "\n",
    "# Функция на сетке с шагом h2/2\n",
    "RKPlotOften = RungeKuttaMethod(xGridOften, function, u0, u0Diff)"
   ]
  },
  {
   "cell_type": "code",
   "execution_count": 33,
   "id": "c86a9d79",
   "metadata": {},
   "outputs": [],
   "source": [
    "# Порядок РунгиКутта\n",
    "powerOfRungeKutt = 4\n",
    "\n",
    "# Считаем поправки для двух построенных функций\n",
    "runge_range = Runge_rule(RKPlotRarely, RKPlotOften, powerOfRungeKutt)"
   ]
  },
  {
   "cell_type": "code",
   "execution_count": 34,
   "id": "89402dbc",
   "metadata": {},
   "outputs": [
    {
     "name": "stdout",
     "output_type": "stream",
     "text": [
      "\n",
      "\n",
      "Ошибки для конкретной точки, для разбиения с шагом h = 0.1, для РК без поправки и с поправкой\n",
      "0 - X, 1 - Без поправки, 2 - РК, 3 - С поправкой\n",
      "\n",
      "\n",
      "0.0 | 0.0 | 0.0\n",
      "\n",
      "\n",
      "0.1 | 3.063477049813912e-08 | 5.69355673718519e-11\n",
      "\n",
      "\n",
      "0.2 | 5.605882491543923e-08 | 1.247120184899586e-10\n",
      "\n",
      "\n",
      "0.30000000000000004 | 7.588298722716047e-08 | 2.0562640479226957e-10\n",
      "\n",
      "\n",
      "0.4 | 8.981446963929329e-08 | 3.010565130523446e-10\n",
      "\n",
      "\n",
      "0.5 | 9.767780806413384e-08 | 4.11481293483007e-10\n",
      "\n",
      "\n",
      "0.6000000000000001 | 9.942962142517331e-08 | 5.365394795120437e-10\n",
      "\n",
      "\n",
      "0.7000000000000001 | 9.516714971624651e-08 | 6.751292858098168e-10\n",
      "\n",
      "\n",
      "0.8 | 8.513077465188701e-08 | 8.255374162047247e-10\n",
      "\n",
      "\n",
      "0.9 | 6.970093346936324e-08 | 9.855947169512547e-10\n",
      "\n",
      "\n",
      "1.0 | 4.9389997425208776e-08 | 1.1528489274326148e-09\n"
     ]
    }
   ],
   "source": [
    "# Создали новую функцию на сетке h2, но с поправкой\n",
    "RKPlotImprovment = []\n",
    "\n",
    "for i in range(len(runge_range)):\n",
    "    n = 2 * i\n",
    "    RKPlotImprovment.append(RKPlotOften[n] + runge_range[i])\n",
    "\n",
    "\n",
    "# Считаем ошибки функций без поправки, и с поправкой\n",
    "RKErrors = [abs(rkValue - originalValue)  for rkValue, originalValue  in zip(RKPlotRarely, uPlot)]\n",
    "RKErrorsImprovement = [abs(rkValueImpr - originalValue) for rkValueImpr, originalValue in zip(RKPlotImprovment, uPlot)]\n",
    "\n",
    "    \n",
    "print(\"\\n\")\n",
    "print(\"Ошибки для конкретной точки, для разбиения с шагом h = 0.1, для РК без поправки и с поправкой\")\n",
    "\n",
    "# Выводим ошибки для каждого из методов\n",
    "print(\"0 - X, 1 - Без поправки, 2 - РК, 3 - С поправкой\")\n",
    "for i in range(len(xGridRarely)):\n",
    "    print(\"\\n\")\n",
    "    print(xGridRarely[i], \"|\", RKErrors[i], \"|\", RKErrorsImprovement[i])"
   ]
  },
  {
   "cell_type": "code",
   "execution_count": 37,
   "id": "3d3feb98",
   "metadata": {},
   "outputs": [],
   "source": [
    "# Пробегаемся по различным шагам чтобы посчитать максимальные ошибки ДО и ПОСЛЕ поправок\n",
    "hPlot = []\n",
    "errorsPlotWithoutImarovement = []\n",
    "errorsPlotWithImarovement = []\n",
    "\n",
    "for n in np.arange(2, 101, step = 10):    \n",
    "    # Обычная сетка\n",
    "    xGridRarely, h = np.linspace(a, b, n, retstep=True)\n",
    "    \n",
    "    # Строим другую сетку с вдвое меньшим разбиением\n",
    "    xGridOften = []\n",
    "    for i in range(len(xGridRarely) - 1):\n",
    "        xGridOften.append(xGridRarely[i])\n",
    "        xGridOften.append((xGridRarely[i] + xGridRarely[i + 1]) / 2)\n",
    "    xGridOften.append(xGridRarely[-1])\n",
    "    \n",
    "    \n",
    "    # Cчитаем РунгиКуттом для обычного разиения, вдвое меньшего, и для меньшего считаем настоящие значения\n",
    "    RKPlot0 = RungeKuttaMethod(xGridRarely, function, u0, u0Diff)\n",
    "    RKPlot1 = RungeKuttaMethod(xGridOften, function, u0, u0Diff)\n",
    "    uPlot = [originalSolution(x) for x in xGridRarely]\n",
    "    \n",
    "    #Считаем поправки для двух функций\n",
    "    runge_range = Runge_rule(RKPlot0, RKPlot1, powerOfRungeKutt)\n",
    "    \n",
    "    # Создаем новую функцию на основе поправок, на сетке h2\n",
    "    RKPlotImprovement = []\n",
    "    for i in range(len(runge_range)):\n",
    "        n = 2 * i\n",
    "        RKPlotImprovement.append(RKPlot1[n] + runge_range[i])\n",
    "    \n",
    "    # Считаем максимальную ошибку для разбиения на h2 с поправкой и БЕЗ\n",
    "    maxErrorWithoutImarovement = max([abs(rkValue - originalValue) for rkValue, originalValue in zip(RKPlot0, uPlot)])\n",
    "    maxErrorWithImarovement = max([abs(rkImprValue - originalValue) for rkImprValue, originalValue in zip(RKPlotImprovement, uPlot)])\n",
    "    \n",
    "    # Массив шагов\n",
    "    hPlot.append(h)\n",
    "    \n",
    "    # Массив максимальных ошибок для метода без поправок\n",
    "    errorsPlotWithoutImarovement.append(maxErrorWithoutImarovement)\n",
    "    \n",
    "    # Массив максимальных ошибок для метода с поправкой\n",
    "    errorsPlotWithImarovement.append(maxErrorWithImarovement)"
   ]
  },
  {
   "cell_type": "code",
   "execution_count": 38,
   "id": "fdd1ba4b",
   "metadata": {},
   "outputs": [
    {
     "name": "stdout",
     "output_type": "stream",
     "text": [
      "\n",
      "\n",
      "Ошибки для методов С поправкой и БЕЗ в зависимости от шага\n",
      "0 - Шаг, 1 - Без поправки, 2 - РК, 3 - С поправкой\n",
      "\n",
      "\n",
      "1.0 | 0.0009538606389565274 | 2.115516126788286e-05\n",
      "\n",
      "\n",
      "0.09090909090909091 | 6.862511248151293e-08 | 7.191638395909195e-10\n",
      "\n",
      "\n",
      "0.047619047619047616 | 5.548952630718418e-09 | 2.8969271426149135e-11\n",
      "\n",
      "\n",
      "0.03225806451612903 | 1.1971745816907742e-09 | 4.163114297739412e-12\n",
      "\n",
      "\n",
      "0.024390243902439025 | 3.9638670124020337e-10 | 1.0325074129013956e-12\n",
      "\n",
      "\n",
      "0.0196078431372549 | 1.6684431614066852e-10 | 3.47499806707674e-13\n",
      "\n",
      "\n",
      "0.01639344262295082 | 8.195666367782906e-11 | 1.41886502547095e-13\n",
      "\n",
      "\n",
      "0.014084507042253521 | 4.482192395016682e-11 | 6.705747068735946e-14\n",
      "\n",
      "\n",
      "0.012345679012345678 | 2.6536550734590492e-11 | 3.4861002973229915e-14\n",
      "\n",
      "\n",
      "0.01098901098901099 | 1.669486771049833e-11 | 1.9539925233402755e-14\n"
     ]
    }
   ],
   "source": [
    "print(\"\\n\")\n",
    "print(\"Ошибки для методов С поправкой и БЕЗ в зависимости от шага\")\n",
    "\n",
    "# Выводим ошибки\n",
    "print(\"0 - Шаг, 1 - Без поправки, 2 - РК, 3 - С поправкой\")\n",
    "for i in range(len(hPlot)):\n",
    "    print(\"\\n\")\n",
    "    print(hPlot[i], \"|\", errorsPlotWithoutImarovement[i], \"|\", errorsPlotWithImarovement[i])    "
   ]
  },
  {
   "cell_type": "code",
   "execution_count": 43,
   "id": "359b7ef2",
   "metadata": {},
   "outputs": [
    {
     "name": "stdout",
     "output_type": "stream",
     "text": [
      "\n",
      "\n",
      "Голубой: RK без поправки\n",
      "Оранжевый: RK с поправки\n"
     ]
    },
    {
     "data": {
      "image/png": "[encoded data removed]",
      "text/plain": [
       "<Figure size 1440x720 with 1 Axes>"
      ]
     },
     "metadata": {
      "needs_background": "light"
     },
     "output_type": "display_data"
    }
   ],
   "source": [
    "# Берем логарифмы шагов и ошибок для двух функций\n",
    "ln_hPlot = np.log(hPlot)\n",
    "ln_errorsPlotWithoutImarovement = np.log(errorsPlotWithoutImarovement)\n",
    "ln_errorsPlotWithImarovement = np.log(errorsPlotWithImarovement)\n",
    "\n",
    "# Рисуем график максимальной ошибки от шага\n",
    "ax = plt.subplots(figsize=(20, 10))[1]\n",
    "ax.plot(ln_hPlot, ln_errorsPlotWithoutImarovement, color=\"cyan\", linewidth=1.0)\n",
    "ax.plot(ln_hPlot, ln_errorsPlotWithImarovement, color=\"orange\", linewidth=1.0)\n",
    "\n",
    "ax.grid(which=\"major\", linewidth=0.1)\n",
    "\n",
    "ax.set_xlabel(\"Логарифм шага\")        \n",
    "ax.set_ylabel(\"Логарифм макс. ошибки\")\n",
    "\n",
    "print(\"\\n\")\n",
    "print(\"Голубой: RK без поправки\")\n",
    "print(\"Оранжевый: RK с поправки\")\n",
    "\n",
    "plt.show()"
   ]
  },
  {
   "cell_type": "code",
   "execution_count": 54,
   "id": "0bc4b0cb",
   "metadata": {},
   "outputs": [
    {
     "name": "stdout",
     "output_type": "stream",
     "text": [
      "Первый коэфф. наклона без поправок =  3.9555837823298057\n",
      "Второй коэфф. наклона с поправками =  4.640810868752758\n"
     ]
    }
   ],
   "source": [
    "coeff1 = 0\n",
    "coeff2 = 0\n",
    "\n",
    "for index in range(len(ln_hPlot)):\n",
    "    coeff1 += ln_hPlot[index] * ln_errorsPlotWithoutImarovement[index]\n",
    "coeff1 *= len(ln_hPlot)    \n",
    "coeff1 -= (np.sum(ln_hPlot) * np.sum(ln_errorsPlotWithoutImarovement))\n",
    "coeff1 /= (len(ln_hPlot) * np.sum(np.power(ln_hPlot, 2)) - np.power(np.sum(ln_hPlot), 2))\n",
    "\n",
    "\n",
    "for index in range(len(ln_hPlot)):\n",
    "    coeff2 += ln_hPlot[index] * ln_errorsPlotWithImarovement[index]\n",
    "coeff2 *= len(ln_hPlot)    \n",
    "coeff2 -= (np.sum(ln_hPlot) * np.sum(ln_errorsPlotWithImarovement))\n",
    "coeff2 /= (len(ln_hPlot) * np.sum(np.power(ln_hPlot, 2)) - np.power(np.sum(ln_hPlot), 2))\n",
    "\n",
    "\n",
    "print(\"Первый коэфф. наклона без поправок = \", coeffs[0])\n",
    "print(\"Второй коэфф. наклона с поправками = \", coeffs[1])"
   ]
  },
  {
   "cell_type": "code",
   "execution_count": null,
   "id": "af3f09e0",
   "metadata": {},
   "outputs": [],
   "source": []
  }
 ],
 "metadata": {
  "kernelspec": {
   "display_name": "Python 3 (ipykernel)",
   "language": "python",
   "name": "python3"
  },
  "language_info": {
   "codemirror_mode": {
    "name": "ipython",
    "version": 3
   },
   "file_extension": ".py",
   "mimetype": "text/x-python",
   "name": "python",
   "nbconvert_exporter": "python",
   "pygments_lexer": "ipython3",
   "version": "3.9.9"
  }
 },
 "nbformat": 4,
 "nbformat_minor": 5
}
