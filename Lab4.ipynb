{
 "cells": [
  {
   "cell_type": "code",
   "execution_count": 1,
   "metadata": {},
   "outputs": [],
   "source": [
    "import math"
   ]
  },
  {
   "cell_type": "code",
   "execution_count": 2,
   "metadata": {},
   "outputs": [],
   "source": [
    "def origFunction(x):\n",
    "    return x * math.atan(x) + (x / 2) * math.cos(x) - 3"
   ]
  },
  {
   "cell_type": "code",
   "execution_count": 3,
   "metadata": {},
   "outputs": [],
   "source": [
    "def diffFunction(x):\n",
    "    return math.atan(x) + x / (1 + x ** 2) + math.cos(x) / 2 - (x * math.sin(x)) / 2"
   ]
  },
  {
   "cell_type": "code",
   "execution_count": 4,
   "metadata": {},
   "outputs": [],
   "source": [
    "def DihtomyMethod(a, b, eps, origFunction):\n",
    "    left = a\n",
    "    right = b\n",
    "    \n",
    "    iterations = 0\n",
    "    \n",
    "    while abs(left - right) > eps:\n",
    "        temp = (left + right) / 2\n",
    "        iterations = iterations + 1\n",
    "        \n",
    "        if (origFunction(temp) == 0):\n",
    "            return temp\n",
    "        elif (origFunction(temp) * origFunction(left) < 0):\n",
    "            right = temp\n",
    "        elif (origFunction(temp) * origFunction(right) < 0):\n",
    "            left = temp\n",
    "            \n",
    "    print(\"количество итераций : \"+str(iterations))\n",
    "    print(\"нуль функции: \"+ str(right))"
   ]
  },
  {
   "cell_type": "code",
   "execution_count": 5,
   "metadata": {},
   "outputs": [],
   "source": [
    "def NewtonMethod(a, b, eps, origFunction, origDiff):\n",
    "    x = (a + b) / 2\n",
    "    iterations = 0\n",
    "    \n",
    "    while (abs(origFunction(x)) > eps):\n",
    "        x = x - origFunction(x) / origDiff(x)\n",
    "        iterations = iterations + 1\n",
    "    print(\"количество итераций : \"+str(iterations))\n",
    "    print(\"нуль функции: \"+ str(x))"
   ]
  },
  {
   "cell_type": "code",
   "execution_count": 6,
   "metadata": {},
   "outputs": [],
   "source": [
    "def ChordMethod(origFunction, eps):\n",
    "    x1 = 0\n",
    "    x2 = 3\n",
    "    \n",
    "    iterations = 0\n",
    "    \n",
    "    while abs(origFunction(x2)) > eps:\n",
    "        iterations = iterations + 1\n",
    "        buffer = x2\n",
    "        \n",
    "        x2 = x1 + origFunction(x1) * (x2-x1) / (origFunction(x2) - origFunction(x1))\n",
    "        x1 = buffer\n",
    "        \n",
    "    print(\"Метод хорд: \" + str(x2))\n",
    "    print(\"оличество итераций : \" + str(iterations))"
   ]
  },
  {
   "cell_type": "code",
   "execution_count": 7,
   "metadata": {},
   "outputs": [
    {
     "name": "stdout",
     "output_type": "stream",
     "text": [
      "точность: 0.001\n",
      "======\n",
      "DihotomyMethod\n",
      "количество итераций : 14\n",
      "нуль функции: 3.565673828125\n",
      "=========\n",
      "NewtonMethod\n",
      "количество итераций : 4\n",
      "нуль функции: 3.565082928358871\n",
      "=========\n",
      "ChordMethod\n",
      "Метод хорд: 3.564591816789613\n",
      "оличество итераций : 12\n",
      "\n"
     ]
    }
   ],
   "source": [
    "eps = 10 ** (-3)\n",
    "print(\"точность: \"+str(eps))\n",
    "print(\"======\")\n",
    "\n",
    "print(\"DihotomyMethod\")\n",
    "DihtomyMethod(0, 10, eps, origFunction)\n",
    "print(\"=========\")\n",
    "print(\"NewtonMethod\")\n",
    "NewtonMethod(0, 10, eps, origFunction, diffFunction)\n",
    "print(\"=========\")\n",
    "print(\"ChordMethod\")\n",
    "ChordMethod(origFunction, eps)\n",
    "print()"
   ]
  },
  {
   "cell_type": "code",
   "execution_count": 8,
   "metadata": {},
   "outputs": [
    {
     "name": "stdout",
     "output_type": "stream",
     "text": [
      "точность: 1e-06\n",
      "======\n",
      "DihotomyMethod\n",
      "количество итераций : 24\n",
      "нуль функции: 3.565082550048828\n",
      "=========\n",
      "NewtonMethod\n",
      "количество итераций : 5\n",
      "нуль функции: 3.565082369163032\n",
      "=========\n",
      "ChordMethod\n",
      "Метод хорд: 3.565081840064463\n",
      "оличество итераций : 24\n",
      "\n"
     ]
    }
   ],
   "source": [
    "eps = 10 ** (-6)\n",
    "print(\"точность: \"+str(eps))\n",
    "print(\"======\")\n",
    "\n",
    "print(\"DihotomyMethod\")\n",
    "DihtomyMethod(0, 10, eps, origFunction)\n",
    "print(\"=========\")\n",
    "print(\"NewtonMethod\")\n",
    "NewtonMethod(0, 10, eps, origFunction, diffFunction)\n",
    "print(\"=========\")\n",
    "print(\"ChordMethod\")\n",
    "ChordMethod(origFunction, eps)\n",
    "print()"
   ]
  },
  {
   "cell_type": "code",
   "execution_count": 9,
   "metadata": {},
   "outputs": [
    {
     "name": "stdout",
     "output_type": "stream",
     "text": [
      "точность: 1e-09\n",
      "======\n",
      "Dihotomy\n",
      "количество итераций : 34\n",
      "нуль функции: 3.5650823696050793\n",
      "=========\n",
      "Newton\n",
      "количество итераций : 5\n",
      "нуль функции: 3.565082369163032\n"
     ]
    }
   ],
   "source": [
    "eps = 10 ** (-9)\n",
    "print(\"точность: \"+str(eps))\n",
    "print(\"======\")\n",
    "\n",
    "print(\"Dihotomy\")\n",
    "DihtomyMethod(0, 10, eps, origFunction)\n",
    "print(\"=========\")\n",
    "print(\"Newton\")\n",
    "NewtonMethod(0, 10, eps, origFunction, diffFunction)"
   ]
  },
  {
   "cell_type": "code",
   "execution_count": 10,
   "metadata": {},
   "outputs": [],
   "source": [
    "def newtonSpeed(a, b, n, origFunc, diffFunc):\n",
    "    x0 = (a + b) / 2\n",
    "    for i in range(n):\n",
    "        x0 = x0 - origFunc(x0) / diffFunc(x0)\n",
    "\n",
    "    x1 = x0 - origFunc(x0) / diffFunc(x0)\n",
    "    x2 = x1 - origFunc(x1) / diffFunc(x1)\n",
    "    x3 = x2 - origFunc(x2) / diffFunc(x2)\n",
    "\n",
    "    speed = math.log(abs((x3 - x2) / (x2 - x1))) / math.log(abs((x2 - x1) / (x1 - x0)))\n",
    "    \n",
    "    print(\"Примерная скорость сходимости метод Ньютона:  \", speed)"
   ]
  },
  {
   "cell_type": "code",
   "execution_count": 11,
   "metadata": {},
   "outputs": [
    {
     "name": "stdout",
     "output_type": "stream",
     "text": [
      "Примерная скорость сходимости метод Ньютона:   2.000667299253037\n"
     ]
    }
   ],
   "source": [
    "newtonSpeed(0, 10, 3, origFunction, diffFunction)"
   ]
  },
  {
   "cell_type": "code",
   "execution_count": 23,
   "metadata": {},
   "outputs": [],
   "source": [
    "def dihotomySpeed(a, b, n, eps, origFunction):\n",
    "    left = a\n",
    "    right = b\n",
    "    \n",
    "    \n",
    "    while abs(left - right) > eps:\n",
    "        temp = (left + right) / 2\n",
    "        \n",
    "        if (origFunction(temp) == 0):\n",
    "            return temp\n",
    "        elif (origFunction(temp) * origFunction(left) < 0):\n",
    "            right = temp\n",
    "        elif (origFunction(temp) * origFunction(right) < 0):\n",
    "            left = temp\n",
    "        \n",
    "    x_final0 = right\n",
    "    \n",
    "    temp = (left + right) / 2\n",
    "    if (origFunction(temp) == 0):\n",
    "        return temp\n",
    "    elif (origFunction(temp) * origFunction(left) < 0):\n",
    "        right = temp\n",
    "    elif (origFunction(temp) * origFunction(right) < 0):\n",
    "        left = temp\n",
    "    x_final1 = right\n",
    "    \n",
    "    temp = (left + right) / 2\n",
    "    if (origFunction(temp) == 0):\n",
    "        return temp\n",
    "    elif (origFunction(temp) * origFunction(left) < 0):\n",
    "        right = temp\n",
    "    elif (origFunction(temp) * origFunction(right) < 0):\n",
    "        left = temp\n",
    "    x_final2 = right\n",
    "    \n",
    "    temp = (left + right) / 2\n",
    "    if (origFunction(temp) == 0):\n",
    "        return temp\n",
    "    elif (origFunction(temp) * origFunction(left) < 0):\n",
    "        right = temp\n",
    "    elif (origFunction(temp) * origFunction(right) < 0):\n",
    "        left = temp\n",
    "    x_final3 = right\n",
    "    \n",
    "    speed = math.log(abs((x_final3 - x_final2) / (x_final2 - x_final1))) / math.log(abs((x_final2 - x_final1) / (x_final1 - x_final0)))\n",
    "    \n",
    "    print(\"Примерная скорость сходимости (метод Хорд):  \", speed)\n",
    "    "
   ]
  },
  {
   "cell_type": "code",
   "execution_count": 24,
   "metadata": {},
   "outputs": [
    {
     "name": "stdout",
     "output_type": "stream",
     "text": [
      "Примерная скорость сходимости (метод Хорд):   1.0\n"
     ]
    }
   ],
   "source": [
    "dihotomySpeed(0, 10, 5, 0.001, origFunction)"
   ]
  },
  {
   "cell_type": "code",
   "execution_count": 46,
   "metadata": {},
   "outputs": [],
   "source": [
    "def chordSpeed(origFunc, root, x0, x1):  \n",
    "    speed = 0\n",
    "    \n",
    "    while (abs((root - x1)) > 0.00000001):\n",
    "        speed = math.log(abs(root - x1)) / math.log(abs(root - x0))\n",
    "        \n",
    "        x  = x0\n",
    "        x0 = x1\n",
    "        x1 = x - origFunc(x) * (x - x1) / (origFunc(x) - origFunc(x1))\n",
    "        \n",
    "    print(speed)"
   ]
  },
  {
   "cell_type": "code",
   "execution_count": 47,
   "metadata": {},
   "outputs": [
    {
     "name": "stdout",
     "output_type": "stream",
     "text": [
      "1.5598716676471032\n"
     ]
    }
   ],
   "source": [
    "chordSpeed(origFunction, 3.565082369163032, 0, 10)"
   ]
  }
 ],
 "metadata": {
  "kernelspec": {
   "display_name": "Python 3 (ipykernel)",
   "language": "python",
   "name": "python3"
  },
  "language_info": {
   "codemirror_mode": {
    "name": "ipython",
    "version": 3
   },
   "file_extension": ".py",
   "mimetype": "text/x-python",
   "name": "python",
   "nbconvert_exporter": "python",
   "pygments_lexer": "ipython3",
   "version": "3.9.9"
  }
 },
 "nbformat": 4,
 "nbformat_minor": 2
}
